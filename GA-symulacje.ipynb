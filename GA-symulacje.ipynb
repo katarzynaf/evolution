{
 "cells": [
  {
   "cell_type": "code",
   "execution_count": 2,
   "metadata": {
    "collapsed": false,
    "deletable": true,
    "editable": true
   },
   "outputs": [],
   "source": [
    "from utils import Board, Robot_v2\n",
    "import copy\n",
    "import random"
   ]
  },
  {
   "cell_type": "code",
   "execution_count": 9,
   "metadata": {
    "collapsed": false
   },
   "outputs": [],
   "source": [
    "## TODO:\n",
    "## checkers and constractions \n",
    "## how to log memory, Bebechy, Robot_v2 and run functionality\n",
    "\n",
    "\n",
    "class Simulator:\n",
    "    def __init__(self, population_size = 40, n_boards = 200, mess = .05):\n",
    "        self.population_size = population_size\n",
    "        self.n_boards = n_boards\n",
    "        self.mess = mess\n",
    "        self.init_generation = [ Robot_v2() for i in range(population_size)]\n",
    "        \n",
    "    def selection(self, population):\n",
    "        robot_cans = []\n",
    "        for r in population:\n",
    "            r_bag = 0\n",
    "            for i in range(self.n_boards):\n",
    "                b = Board()\n",
    "                r_bag += r.run(b)\n",
    "            robot_cans.append((r, float(r_bag)/self.n_boards))\n",
    "        robot_cans.sort(key=lambda x: x[1], reverse=True)\n",
    "        return robot_cans[:5]\n",
    "    \n",
    "    def reproduction(self, parents, k=8):\n",
    "        offspring = []\n",
    "        for r in parents:\n",
    "            for i in range(k):\n",
    "                child = copy.deepcopy(r)\n",
    "                c = child.chromosome\n",
    "                idx = random.sample(range(len(c)),int(len(c) * self.mess))\n",
    "                for j in idx:\n",
    "                    gene, d = c[j]\n",
    "                    new_d = child.choose_direction(dict(zip(['P','R','U','L','D'], gene)))\n",
    "                    c[j] = gene, new_d                \n",
    "                offspring.append(child)   \n",
    "        return offspring\n",
    "    \n",
    "    def log_last(self):\n",
    "        results = [v for r,v in self.evolution[-1]]\n",
    "        print('Epoch: %s, best5 result: %s' % (len(self.evolution)-1, str(results)))\n",
    "        \n",
    "    def run(self, n_epochs=1500):\n",
    "        self.evolution = []\n",
    "        best5 = self.selection(self.init_generation)\n",
    "        self.evolution += [best5]\n",
    "        self.log_last()\n",
    "        \n",
    "        for t in range(n_epochs):\n",
    "            new_generation = self.reproduction([robot for robot,cans in best5])\n",
    "            best5 = self.selection(new_generation)\n",
    "            self.evolution += [best5]\n",
    "            self.log_last()"
   ]
  },
  {
   "cell_type": "code",
   "execution_count": 10,
   "metadata": {
    "collapsed": false
   },
   "outputs": [],
   "source": [
    "self = Simulator()"
   ]
  },
  {
   "cell_type": "code",
   "execution_count": null,
   "metadata": {
    "collapsed": false
   },
   "outputs": [
    {
     "name": "stdout",
     "output_type": "stream",
     "text": [
      "Epoch: 0, best5 result: [0.575, 0.44, 0.245, 0.225, 0.165]\n"
     ]
    }
   ],
   "source": [
    "self.run(3)"
   ]
  },
  {
   "cell_type": "code",
   "execution_count": null,
   "metadata": {
    "collapsed": false
   },
   "outputs": [],
   "source": [
    "self.evolution[0][0][0].chromosome"
   ]
  },
  {
   "cell_type": "code",
   "execution_count": null,
   "metadata": {
    "collapsed": true
   },
   "outputs": [],
   "source": []
  },
  {
   "cell_type": "code",
   "execution_count": null,
   "metadata": {
    "collapsed": false,
    "deletable": true,
    "editable": true
   },
   "outputs": [],
   "source": [
    "import pandas as pd\n",
    "%matplotlib inline\n",
    "\n",
    "df = pd.DataFrame(TRACE)\n",
    "df.plot.line()"
   ]
  },
  {
   "cell_type": "code",
   "execution_count": null,
   "metadata": {
    "collapsed": false,
    "scrolled": true
   },
   "outputs": [],
   "source": [
    "df.sum(axis=1).sort_values(ascending=False).head()"
   ]
  },
  {
   "cell_type": "code",
   "execution_count": null,
   "metadata": {
    "collapsed": false
   },
   "outputs": [],
   "source": [
    "df.loc[696]"
   ]
  },
  {
   "cell_type": "code",
   "execution_count": null,
   "metadata": {
    "collapsed": false
   },
   "outputs": [],
   "source": [
    "results[696]"
   ]
  },
  {
   "cell_type": "code",
   "execution_count": null,
   "metadata": {
    "collapsed": true
   },
   "outputs": [],
   "source": []
  }
 ],
 "metadata": {
  "kernelspec": {
   "display_name": "Python 2",
   "language": "python",
   "name": "python2"
  }
 },
 "nbformat": 4,
 "nbformat_minor": 2
}
